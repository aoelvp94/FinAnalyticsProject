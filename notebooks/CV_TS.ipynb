{
 "cells": [
  {
   "cell_type": "markdown",
   "metadata": {},
   "source": [
    "#Serie de Tiempo - Ejemplo"
   ]
  },
  {
   "cell_type": "code",
   "execution_count": 1,
   "metadata": {},
   "outputs": [
    {
     "name": "stdout",
     "output_type": "stream",
     "text": [
      "DatetimeIndex(['2015-07-04', '2015-07-05', '2015-07-06', '2015-07-07',\n",
      "               '2015-07-08', '2015-07-09', '2015-07-10', '2015-07-11',\n",
      "               '2015-07-12', '2015-07-13', '2015-07-14', '2015-07-15',\n",
      "               '2015-07-16', '2015-07-17', '2015-07-18', '2015-07-19',\n",
      "               '2015-07-20', '2015-07-21', '2015-07-22', '2015-07-23',\n",
      "               '2015-07-24', '2015-07-25', '2015-07-26', '2015-07-27',\n",
      "               '2015-07-28', '2015-07-29', '2015-07-30', '2015-07-31',\n",
      "               '2015-08-01', '2015-08-02'],\n",
      "              dtype='datetime64[ns]', freq=None)\n",
      "            var  label\n",
      "2015-07-04   95     69\n",
      "2015-07-05   25     74\n",
      "2015-07-06    0    105\n",
      "2015-07-07   55    146\n",
      "2015-07-08   64    104\n"
     ]
    }
   ],
   "source": [
    "import numpy as np\n",
    "import pandas as pd\n",
    "date = pd.to_datetime(\"4th of July, 2015\")\n",
    "date = date + pd.to_timedelta(np.arange(30), 'D')\n",
    "print(date)\n",
    "x = np.random.randint(0,100,size=(len(date)))\n",
    "df = pd.DataFrame(x, columns=['var'], index = date)\n",
    "df['label'] = np.random.randint(35,163,size=(len(date)))\n",
    "print(df.head())\n",
    "len(df)\n",
    "X = df.copy()"
   ]
  },
  {
   "cell_type": "markdown",
   "metadata": {},
   "source": [
    "#CV para Series de Tiempo sin Embargo"
   ]
  },
  {
   "cell_type": "code",
   "execution_count": 12,
   "metadata": {},
   "outputs": [
    {
     "name": "stdout",
     "output_type": "stream",
     "text": [
      "[0 1 2 3 4]\n",
      "[5 6 7 8 9]\n",
      "[0 1 2 3 4 5 6 7 8 9]\n",
      "[10 11 12 13 14]\n",
      "[ 0  1  2  3  4  5  6  7  8  9 10 11 12 13 14]\n",
      "[15 16 17 18 19]\n",
      "[ 0  1  2  3  4  5  6  7  8  9 10 11 12 13 14 15 16 17 18 19]\n",
      "[20 21 22 23 24]\n",
      "[ 0  1  2  3  4  5  6  7  8  9 10 11 12 13 14 15 16 17 18 19 20 21 22 23\n",
      " 24]\n",
      "[25 26 27 28 29]\n"
     ]
    }
   ],
   "source": [
    "from sklearn.model_selection import TimeSeriesSplit\n",
    "\n",
    "X = df.copy()\n",
    "#X.head()\n",
    "\n",
    "tss = TimeSeriesSplit(n_splits=5)\n",
    "\n",
    "\n",
    "\n",
    "for train_index, test_index in tss.split(X):\n",
    "    X_train, X_test = X['var'][:len(train_index)], X['var'][len(train_index): (len(train_index)+len(test_index))]\n",
    "    y_train, y_test = X['label'][:len(train_index)], X['label'][len(train_index): (len(train_index)+len(test_index))]\n",
    "    print(train_index)\n",
    "    print(test_index)\n",
    "  "
   ]
  },
  {
   "cell_type": "code",
   "execution_count": 17,
   "metadata": {},
   "outputs": [],
   "source": [
    "import numpy as np\n",
    "from sklearn.model_selection import TimeSeriesSplit\n",
    "\n",
    "tss = TimeSeriesSplit(n_splits=5)\n",
    "\n",
    "X = df.copy()\n",
    "X.head()\n",
    "train = [] \n",
    "test = []\n",
    "\n",
    "for train_index, test_index in tss.split(X):\n",
    "    X_train2, X_test2 = X['var'][:int(len(train_index)*0.95)], X['var'][int(len(train_index)*1.04): (len(train_index)+len(test_index))]\n",
    "    y_train2, y_test2 = X['label'][:int(len(train_index)*0.95)], X['label'][int(len(train_index)*1.04): (len(train_index)+len(test_index))]\n",
    "    train.append(X_train2) \n",
    "    test.append(X_test2)"
   ]
  },
  {
   "cell_type": "markdown",
   "metadata": {},
   "source": [
    "#CV K-Fold con embargo de 3 dias"
   ]
  },
  {
   "cell_type": "code",
   "execution_count": 11,
   "metadata": {},
   "outputs": [
    {
     "name": "stdout",
     "output_type": "stream",
     "text": [
      "[9, 10, 11, 12, 13, 14, 15, 16, 17, 18, 19, 20, 21, 22, 23, 24, 25, 26, 27, 28, 29]\n",
      "[0 1 2 3 4 5]\n",
      "[0, 1, 2, 15, 16, 17, 18, 19, 20, 21, 22, 23, 24, 25, 26, 27, 28, 29]\n",
      "[ 6  7  8  9 10 11]\n",
      "[0, 1, 2, 3, 4, 5, 6, 7, 8, 21, 22, 23, 24, 25, 26, 27, 28, 29]\n",
      "[12 13 14 15 16 17]\n",
      "[0, 1, 2, 3, 4, 5, 6, 7, 8, 9, 10, 11, 12, 13, 14, 27, 28, 29]\n",
      "[18 19 20 21 22 23]\n",
      "[0, 1, 2, 3, 4, 5, 6, 7, 8, 9, 10, 11, 12, 13, 14, 15, 16, 17, 18, 19, 20]\n",
      "[24 25 26 27 28 29]\n"
     ]
    }
   ],
   "source": [
    "#CV K-Fold con Embargo\n",
    "\n",
    "from sklearn.model_selection import KFold\n",
    "\n",
    "X = df.copy()\n",
    "\n",
    "kf = KFold(n_splits=5)\n",
    "train2 = [] \n",
    "test2 = []\n",
    "indice_train = []\n",
    "indice_test = []\n",
    "\n",
    "\n",
    "for train, test in kf.split(X):\n",
    "    #print(train)\n",
    "    #print(test)\n",
    "    train = list(train)\n",
    "    lista = []\n",
    "    # Embargo de 3 días\n",
    "    #Si Test esta al inicio\n",
    "    if test[0] == 0:\n",
    "        del train[:3]\n",
    "        X_train3, X_test3 = X['var'][train], X['var'][test]\n",
    "        print(train)\n",
    "        print(test)\n",
    "        \n",
    "    #Si test esta al final    \n",
    "    elif test[-1] == len(X)-1:\n",
    "        del train[-3:]\n",
    "        X_train3, X_test3 = X['var'][train], X['var'][test]\n",
    "        print(train)\n",
    "        print(test)\n",
    "        \n",
    "    #Si test está en el medio    \n",
    "    else:\n",
    "        lista = list(range(test[0]-3,test[0]+1))\n",
    "        lista.extend(list(range(test[-1]+1,test[-1]+4)))\n",
    "        train = list(filter(lambda x: (x not in lista) , train))\n",
    "        X_train3, X_test3 = X['var'][train], X['var'][test]\n",
    "        print(train)\n",
    "        print(test)\n"
   ]
  }
 ],
 "metadata": {
  "kernelspec": {
   "display_name": "Python 3",
   "language": "python",
   "name": "python3"
  },
  "language_info": {
   "codemirror_mode": {
    "name": "ipython",
    "version": 3
   },
   "file_extension": ".py",
   "mimetype": "text/x-python",
   "name": "python",
   "nbconvert_exporter": "python",
   "pygments_lexer": "ipython3",
   "version": "3.7.3"
  }
 },
 "nbformat": 4,
 "nbformat_minor": 2
}
