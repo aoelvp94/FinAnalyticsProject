{
 "cells": [
  {
   "cell_type": "code",
   "execution_count": 3,
   "metadata": {},
   "outputs": [],
   "source": [
    "# Imports\n",
    "import pandas as pd\n",
    "import yfinance as yf\n",
    "import numpy as np\n",
    "from pandas_datareader import data as pdr\n",
    "import datetime\n",
    "import matplotlib.pyplot as plt\n",
    "import numba as nb\n",
    "from sklearn.ensemble import RandomForestClassifier\n",
    "from sklearn.model_selection import train_test_split\n",
    "from sklearn.metrics import roc_curve, classification_report, roc_auc_score\n",
    "\n",
    "import os\n",
    "import sys\n",
    "module_path = os.path.abspath(os.path.join('../'))\n",
    "if module_path not in sys.path:\n",
    "    sys.path.append(module_path)\n",
    "from notebooks.mlfinlab.corefns.core_functions import CoreFunctions\n",
    "from notebooks.mlfinlab.corefns.financial_functions import FinancialFunctions"
   ]
  },
  {
   "cell_type": "code",
   "execution_count": 4,
   "metadata": {},
   "outputs": [],
   "source": [
    "# Functions\n",
    "\n",
    "#Cargamos ambos files y los unimos, usando como indices en ambos las fechas.\n",
    "def load_and_join():\n",
    "    mtum = yf.Ticker(\"MTUM\")\n",
    "    stocks = [\"MTUM\"]\n",
    "    start = datetime.datetime(2000,11,30)\n",
    "    end = datetime.datetime(2019,11,30)\n",
    "    \n",
    "    yf.pdr_override()\n",
    "    \n",
    "    df_etf = pdr.get_data_yahoo(stocks, start=start, end=end)\n",
    "    \n",
    "    df = pd.read_excel('https://images.aqr.com/-/media/AQR/Documents/Insights/Data-Sets/Century-of-Factor-Premia-Monthly.xlsx',\n",
    "                      header =18, nrows = 1220)\n",
    "    \n",
    "    df['Date'] =  pd.to_datetime(df['Date'])\n",
    "    \n",
    "    \n",
    "    df = df.set_index('Date')\n",
    "    df = df[['Equity indices Value','Equity indices Momentum','Equity indices Carry','Equity indices Defensive']]\n",
    "    \n",
    "    df_final = df_etf.merge(df, how='left',left_index=True,right_index=True)\n",
    "    \n",
    "    return df_final\n",
    "\n",
    "#Extendemos los datos mensuales a los registros diarios. (Ejemplo: todos los datos de enero, tomaran el valor monthly del 31/01)\n",
    "def fill_joined_missing_fields(df):\n",
    "    for i in range(1,len(df)+1):\n",
    "        if np.isnan(df.iloc[-i,9]):\n",
    "                df.iloc[-i,6] = df.iloc[-i+1,6]\n",
    "                df.iloc[-i,7] = df.iloc[-i+1,7]\n",
    "                df.iloc[-i,8] = df.iloc[-i+1,8]\n",
    "                df.iloc[-i,9] = df.iloc[-i+1,9]\n",
    "         \n",
    "\n",
    "#Introducimos labels al dataset, calculando medias 50 y 200 dias.\n",
    "'''(REVEER!)'''    \n",
    "def labeling_df(df):\n",
    "    df['50_days_average'] = df.iloc[:,3].rolling(window=10).mean()\n",
    "    df['200_days_average'] = df.iloc[:,3].rolling(window=30).mean()\n",
    "    df.loc[df['50_days_average'] >= df['200_days_average'], 'Buy/Sell'] = -1 #Si la media de corto plazo supera a la de largo, es posicion de sell\n",
    "    df.loc[df['50_days_average'] < df['200_days_average'], 'Buy/Sell'] = 1 #Si la media de corto plazo esta por debajo de la de largo, es posicion de buy\n",
    "    return df\n",
    " \n",
    "#Visualizacion de la evolucion de precios y las medias.\n",
    "def visualize_close_50_200(df):\n",
    "    plt.plot(df['Close'])\n",
    "    plt.plot(df['50_days_average'])\n",
    "    plt.plot(df['200_days_average'])\n",
    "    plt.legend(['Close','50_days_avg','200_days_avg'])\n",
    "    plt.title('Evolution of MTUM ETF over time')\n",
    "    plt.show()\n",
    "\n",
    "#Consigue los weights para la diferenciacion!\n",
    "def getWeights_FFD(d,size):\n",
    "    w=[1.]\n",
    "    for k in range(1,size):\n",
    "        w_=-w[-1]/k*(d-k+1)\n",
    "        w.append(w_)\n",
    "    w=np.array(w[::-1]).reshape(-1,1)\n",
    "    return w\n",
    "\n",
    "#Funcion aux para pesos de FFD\n",
    "def plotWeights(dRange,nPlots,size):\n",
    "    w=pd.DataFrame()\n",
    "    for d in np.linspace(dRange[0],dRange[1],nPlots):\n",
    "        w_=getWeights_FFD(d,size=size)\n",
    "        w_=pd.DataFrame(w_,index=range(w_.shape[0])[::-1],columns=[d])\n",
    "        w=w.join(w_,how='outer')\n",
    "    ax=w.plot()\n",
    "    ax.legend(loc='upper right');plt.show()\n",
    "    return\n",
    "\n",
    "#Diferenciamos la serie! d es el orden de diferenciacion. \"Thres\" (threshold) maneja la acceptabilidad de las exclusiones. No modificar.\n",
    "#to do\n",
    "def fracDiff(series,d,thres=0.01):\n",
    "\n",
    "    w=getWeights_FFD(d,series.shape[0])\n",
    "\n",
    "    w_=np.cumsum(abs(w))\n",
    "    w_/=w_[-1]\n",
    "    skip=w_[w_>thres].shape[0]\n",
    "\n",
    "    df={}\n",
    "    for name in series.columns:\n",
    "        seriesF,df_=series[[name]].fillna(method='ffill').dropna(),pd.Series()\n",
    "        for iloc in range(skip,seriesF.shape[0]):\n",
    "            loc=seriesF.index[iloc]\n",
    "\n",
    "            df_[loc]=np.dot(w[-(iloc+1):,:].T,seriesF.loc[:loc])[0,0]\n",
    "        df[name]=df_.copy(deep=True)\n",
    "    df=pd.concat(df,axis=1)\n",
    "    return df\n",
    "\n",
    "#Funcion para buscar el mejor d\n",
    "def plotMinFFD(df):\n",
    "    from statsmodels.tsa.stattools import adfuller\n",
    "    import numpy.ma as ma\n",
    "    out=pd.DataFrame(columns=['adfStat','pVal','lags','nObs','95% conf','corr'])\n",
    "    for d in np.linspace(0,1,21):\n",
    "        df1=np.log(df[['Close']]).resample('1D').last() # Pasar a observaciones diarias\n",
    "        df2=fracDiff(df1,d,thres=.01)\n",
    "        corr = ma.corrcoef(ma.masked_invalid(df1.loc[df2.index,'Close']), ma.masked_invalid(df2['Close']))[0,1]\n",
    "        df2=adfuller(df2['Close'],maxlag=1,regression='c',autolag=None)\n",
    "        out.loc[d]=list(df2[:4])+[df2[4]['5%']]+[corr] # Aportar valores criticos\n",
    "    out[['adfStat','corr']].plot(secondary_y='adfStat')\n",
    "    plt.axhline(out['95% conf'].mean(),linewidth=1,color='r',linestyle='dotted')\n",
    "    plt.show()\n",
    "    return out\n",
    "\n",
    "#Obtiene los factores de tiempo para restar importancia a las observaciones.\n",
    "def getTimeDecay(tW,clfLastW):\n",
    "    clfW=tW.sort_index().cumsum()\n",
    "    if clfLastW>=0:slope=(1.-clfLastW)/clfW.iloc[-1]\n",
    "    else:slope=1./((clfLastW+1)*clfW.iloc[-1])\n",
    "    const=1.-slope*clfW.iloc[-1]\n",
    "    clfW=const+slope*clfW\n",
    "    clfW[clfW<0]=0\n",
    "    # print(const,slope)\n",
    "    return clfW\n",
    "\n",
    "def timeseries_train_test_split(X, y, test_size):\n",
    "    \"\"\"\n",
    "        train test segun un esquema para series de tiempo\n",
    "    \"\"\"\n",
    "    \n",
    "    # tomamos el indice en donde empieza el test\n",
    "    test_index = int(len(X)*(1-test_size))\n",
    "    \n",
    "    X_train = X.iloc[:test_index]\n",
    "    y_train = y.iloc[:test_index]\n",
    "    \n",
    "    X_test = X.iloc[test_index:]\n",
    "    y_test = y.iloc[test_index:]\n",
    "    \n",
    "    return X_train, X_test, y_train, y_test\n",
    "\n",
    "\n",
    "# Compute RSI\n",
    "def get_rsi(data, window=14):\n",
    "    df = data.copy(deep=True).reset_index()\n",
    "    rsi = FinancialFunctions.relative_strength_index(df, window)\n",
    "    rsi_df = pd.Series(data=rsi.values, index=data.index)\n",
    "    return rsi_df"
   ]
  },
  {
   "cell_type": "code",
   "execution_count": 5,
   "metadata": {},
   "outputs": [
    {
     "name": "stdout",
     "output_type": "stream",
     "text": [
      "[*********************100%***********************]  1 of 1 completed\n"
     ]
    }
   ],
   "source": [
    "dataset = load_and_join()\n",
    "fill_joined_missing_fields(dataset) \n"
   ]
  },
  {
   "cell_type": "markdown",
   "metadata": {},
   "source": [
    "<h3>Modelo base</h3>"
   ]
  },
  {
   "cell_type": "code",
   "execution_count": 10,
   "metadata": {},
   "outputs": [
    {
     "name": "stderr",
     "output_type": "stream",
     "text": [
      "/home/aldo/.local/lib/python3.7/site-packages/ipykernel_launcher.py:53: UserWarning: Matplotlib is currently using agg, which is a non-GUI backend, so cannot show the figure.\n"
     ]
    }
   ],
   "source": [
    "df = dataset.copy();\n",
    "\n",
    "#Ploteando series\n",
    "df = labeling_df(df);\n",
    "plt.figure(2);\n",
    "visualize_close_50_200(df);\n"
   ]
  },
  {
   "cell_type": "code",
   "execution_count": 11,
   "metadata": {},
   "outputs": [
    {
     "name": "stderr",
     "output_type": "stream",
     "text": [
      "/home/aldo/.local/lib/python3.7/site-packages/ipykernel_launcher.py:10: DataConversionWarning: A column-vector y was passed when a 1d array was expected. Please change the shape of y to (n_samples,), for example using ravel().\n",
      "  # Remove the CWD from sys.path while we load stuff.\n"
     ]
    },
    {
     "name": "stdout",
     "output_type": "stream",
     "text": [
      "              precision    recall  f1-score   support\n",
      "\n",
      "        -1.0       0.68      1.00      0.81       334\n",
      "         1.0       0.00      0.00      0.00       158\n",
      "\n",
      "    accuracy                           0.68       492\n",
      "   macro avg       0.34      0.50      0.40       492\n",
      "weighted avg       0.46      0.68      0.55       492\n",
      "\n",
      "0.5\n"
     ]
    },
    {
     "name": "stderr",
     "output_type": "stream",
     "text": [
      "/home/aldo/anaconda3/lib/python3.7/site-packages/sklearn/metrics/classification.py:1437: UndefinedMetricWarning: Precision and F-score are ill-defined and being set to 0.0 in labels with no predicted samples.\n",
      "  'precision', 'predicted', average, warn_for)\n",
      "/home/aldo/.local/lib/python3.7/site-packages/ipykernel_launcher.py:25: UserWarning: Matplotlib is currently using agg, which is a non-GUI backend, so cannot show the figure.\n"
     ]
    }
   ],
   "source": [
    "df_aux = df.dropna()\n",
    "X = df_aux.iloc[:,:12]\n",
    "y = df_aux.iloc[:,12:]\n",
    "\n",
    "X_train, X_test, y_train, y_test = timeseries_train_test_split(X, y, test_size=0.3)\n",
    "\n",
    "n_estimator = 10000\n",
    "rf = RandomForestClassifier(max_depth=10, n_estimators=n_estimator,\n",
    "                            criterion='entropy', random_state=42)\n",
    "rf.fit(X_train, y_train)\n",
    "\n",
    "# The random forest model by itself\n",
    "y_pred_rf = rf.predict_proba(X_test)[:, 1]\n",
    "y_pred = rf.predict(X_test)\n",
    "fpr_rf, tpr_rf, _ = roc_curve(y_test, y_pred_rf)\n",
    "print(classification_report(y_test, y_pred))\n",
    "\n",
    "plt.figure(1)\n",
    "plt.plot([0, 1], [0, 1], 'k--')\n",
    "plt.plot(fpr_rf, tpr_rf, label='RF')\n",
    "plt.xlabel('False positive rate')\n",
    "plt.ylabel('True positive rate')\n",
    "plt.title('ROC curve')\n",
    "plt.legend(loc='best')\n",
    "plt.show()\n",
    "auc = roc_auc_score(y_true = y_test, y_score = y_pred)\n",
    "print(auc)"
   ]
  },
  {
   "cell_type": "markdown",
   "metadata": {},
   "source": [
    "<h3>Modelo 1: agregamos diferenciacion fraccionaria</h3>"
   ]
  },
  {
   "cell_type": "code",
   "execution_count": 12,
   "metadata": {},
   "outputs": [
    {
     "name": "stderr",
     "output_type": "stream",
     "text": [
      "/home/aldo/.local/lib/python3.7/site-packages/ipykernel_launcher.py:109: UserWarning: Matplotlib is currently using agg, which is a non-GUI backend, so cannot show the figure.\n",
      "/home/aldo/.local/lib/python3.7/site-packages/ipykernel_launcher.py:53: UserWarning: Matplotlib is currently using agg, which is a non-GUI backend, so cannot show the figure.\n"
     ]
    }
   ],
   "source": [
    "\n",
    "#Diferenciacion fraccionaria: Buscando el mejor d, d* = 0.1\n",
    "plt.figure(1)\n",
    "out = plotMinFFD(dataset)\n",
    "\n",
    "#Usando la diferenciacion con d = 0.05\n",
    "df_ffd = fracDiff(dataset,0.05)  \n",
    "\n",
    "#Ploteando series\n",
    "df_ffd = labeling_df(df_ffd)\n",
    "plt.figure(3)\n",
    "visualize_close_50_200(df_ffd)\n",
    "\n",
    "#time_decay = getTimeDecay(dataset[['Close']],0)"
   ]
  },
  {
   "cell_type": "code",
   "execution_count": 8,
   "metadata": {},
   "outputs": [
    {
     "name": "stderr",
     "output_type": "stream",
     "text": [
      "/Users/fraferrari/anaconda3/envs/py36/lib/python3.6/site-packages/ipykernel_launcher.py:10: DataConversionWarning: A column-vector y was passed when a 1d array was expected. Please change the shape of y to (n_samples,), for example using ravel().\n",
      "  # Remove the CWD from sys.path while we load stuff.\n"
     ]
    },
    {
     "name": "stdout",
     "output_type": "stream",
     "text": [
      "              precision    recall  f1-score   support\n",
      "\n",
      "        -1.0       0.92      0.95      0.94        62\n",
      "         1.0       0.97      0.95      0.96        92\n",
      "\n",
      "    accuracy                           0.95       154\n",
      "   macro avg       0.94      0.95      0.95       154\n",
      "weighted avg       0.95      0.95      0.95       154\n",
      "\n"
     ]
    },
    {
     "data": {
      "image/png": "[encoded data removed]",
      "text/plain": [
       "<Figure size 432x288 with 1 Axes>"
      ]
     },
     "metadata": {},
     "output_type": "display_data"
    },
    {
     "name": "stdout",
     "output_type": "stream",
     "text": [
      "0.9486325385694251\n"
     ]
    }
   ],
   "source": [
    "df_aux = df_ffd.dropna()\n",
    "X = df_aux.iloc[:,:12]\n",
    "y = df_aux.iloc[:,12:]\n",
    "\n",
    "X_train, X_test, y_train, y_test = timeseries_train_test_split(X, y, test_size=0.3)\n",
    "\n",
    "n_estimator = 10000\n",
    "rf = RandomForestClassifier(max_depth=10, n_estimators=n_estimator,\n",
    "                            criterion='entropy', random_state=42)\n",
    "rf.fit(X_train, y_train)\n",
    "\n",
    "# The random forest model by itself\n",
    "y_pred_rf = rf.predict_proba(X_test)[:, 1]\n",
    "y_pred = rf.predict(X_test)\n",
    "fpr_rf, tpr_rf, _ = roc_curve(y_test, y_pred_rf)\n",
    "print(classification_report(y_test, y_pred))\n",
    "\n",
    "plt.figure(1)\n",
    "plt.plot([0, 1], [0, 1], 'k--')\n",
    "plt.plot(fpr_rf, tpr_rf, label='RF')\n",
    "plt.xlabel('False positive rate')\n",
    "plt.ylabel('True positive rate')\n",
    "plt.title('ROC curve')\n",
    "plt.legend(loc='best')\n",
    "plt.show()\n",
    "auc = roc_auc_score(y_true = y_test, y_score = y_pred)\n",
    "print(auc)"
   ]
  },
  {
   "cell_type": "markdown",
   "metadata": {},
   "source": [
    "vemos que overfitea, entonces a este modelo le vamos a agregar variables adicionales"
   ]
  },
  {
   "cell_type": "markdown",
   "metadata": {},
   "source": [
    "<h3>Modelo 2: agregamos X variables</h3>"
   ]
  },
  {
   "cell_type": "code",
   "execution_count": 12,
   "metadata": {},
   "outputs": [
    {
     "ename": "NameError",
     "evalue": "name 'FinancialFunctions' is not defined",
     "output_type": "error",
     "traceback": [
      "\u001b[0;31m---------------------------------------------------------------------------\u001b[0m",
      "\u001b[0;31mNameError\u001b[0m                                 Traceback (most recent call last)",
      "\u001b[0;32m<ipython-input-12-a2982a806745>\u001b[0m in \u001b[0;36m<module>\u001b[0;34m\u001b[0m\n\u001b[1;32m      1\u001b[0m \u001b[0mrsi_windows\u001b[0m \u001b[0;34m=\u001b[0m \u001b[0;34m[\u001b[0m\u001b[0;36m5\u001b[0m\u001b[0;34m,\u001b[0m \u001b[0;36m13\u001b[0m\u001b[0;34m,\u001b[0m \u001b[0;36m34\u001b[0m\u001b[0;34m,\u001b[0m \u001b[0;36m55\u001b[0m\u001b[0;34m]\u001b[0m\u001b[0;34m\u001b[0m\u001b[0;34m\u001b[0m\u001b[0m\n\u001b[1;32m      2\u001b[0m \u001b[0;32mfor\u001b[0m \u001b[0mw\u001b[0m \u001b[0;32min\u001b[0m \u001b[0mrsi_windows\u001b[0m\u001b[0;34m:\u001b[0m\u001b[0;34m\u001b[0m\u001b[0;34m\u001b[0m\u001b[0m\n\u001b[0;32m----> 3\u001b[0;31m     \u001b[0mrsi\u001b[0m \u001b[0;34m=\u001b[0m \u001b[0mget_rsi\u001b[0m\u001b[0;34m(\u001b[0m\u001b[0mdf_ffd\u001b[0m\u001b[0;34m,\u001b[0m \u001b[0mwindow\u001b[0m\u001b[0;34m=\u001b[0m\u001b[0mw\u001b[0m\u001b[0;34m)\u001b[0m\u001b[0;34m.\u001b[0m\u001b[0msqueeze\u001b[0m\u001b[0;34m(\u001b[0m\u001b[0;34m)\u001b[0m\u001b[0;34m\u001b[0m\u001b[0;34m\u001b[0m\u001b[0m\n\u001b[0m\u001b[1;32m      4\u001b[0m     \u001b[0mdf_ffd\u001b[0m\u001b[0;34m[\u001b[0m\u001b[0;34mf'rsi_{w}'\u001b[0m\u001b[0;34m]\u001b[0m \u001b[0;34m=\u001b[0m \u001b[0mrsi\u001b[0m\u001b[0;34m\u001b[0m\u001b[0;34m\u001b[0m\u001b[0m\n\u001b[1;32m      5\u001b[0m \u001b[0;34m\u001b[0m\u001b[0m\n",
      "\u001b[0;32m<ipython-input-11-1370c520a84f>\u001b[0m in \u001b[0;36mget_rsi\u001b[0;34m(data, window)\u001b[0m\n\u001b[1;32m    140\u001b[0m \u001b[0;32mdef\u001b[0m \u001b[0mget_rsi\u001b[0m\u001b[0;34m(\u001b[0m\u001b[0mdata\u001b[0m\u001b[0;34m,\u001b[0m \u001b[0mwindow\u001b[0m\u001b[0;34m=\u001b[0m\u001b[0;36m14\u001b[0m\u001b[0;34m)\u001b[0m\u001b[0;34m:\u001b[0m\u001b[0;34m\u001b[0m\u001b[0;34m\u001b[0m\u001b[0m\n\u001b[1;32m    141\u001b[0m     \u001b[0mdf\u001b[0m \u001b[0;34m=\u001b[0m \u001b[0mdata\u001b[0m\u001b[0;34m.\u001b[0m\u001b[0mcopy\u001b[0m\u001b[0;34m(\u001b[0m\u001b[0mdeep\u001b[0m\u001b[0;34m=\u001b[0m\u001b[0;32mTrue\u001b[0m\u001b[0;34m)\u001b[0m\u001b[0;34m.\u001b[0m\u001b[0mreset_index\u001b[0m\u001b[0;34m(\u001b[0m\u001b[0;34m)\u001b[0m\u001b[0;34m\u001b[0m\u001b[0;34m\u001b[0m\u001b[0m\n\u001b[0;32m--> 142\u001b[0;31m     \u001b[0mrsi\u001b[0m \u001b[0;34m=\u001b[0m \u001b[0mFinancialFunctions\u001b[0m\u001b[0;34m.\u001b[0m\u001b[0mrelative_strength_index\u001b[0m\u001b[0;34m(\u001b[0m\u001b[0mdf\u001b[0m\u001b[0;34m,\u001b[0m \u001b[0mwindow\u001b[0m\u001b[0;34m)\u001b[0m\u001b[0;34m\u001b[0m\u001b[0;34m\u001b[0m\u001b[0m\n\u001b[0m\u001b[1;32m    143\u001b[0m     \u001b[0mrsi_df\u001b[0m \u001b[0;34m=\u001b[0m \u001b[0mpd\u001b[0m\u001b[0;34m.\u001b[0m\u001b[0mSeries\u001b[0m\u001b[0;34m(\u001b[0m\u001b[0mdata\u001b[0m\u001b[0;34m=\u001b[0m\u001b[0mrsi\u001b[0m\u001b[0;34m.\u001b[0m\u001b[0mvalues\u001b[0m\u001b[0;34m,\u001b[0m \u001b[0mindex\u001b[0m\u001b[0;34m=\u001b[0m\u001b[0mdata\u001b[0m\u001b[0;34m.\u001b[0m\u001b[0mindex\u001b[0m\u001b[0;34m)\u001b[0m\u001b[0;34m\u001b[0m\u001b[0;34m\u001b[0m\u001b[0m\n\u001b[1;32m    144\u001b[0m     \u001b[0;32mreturn\u001b[0m \u001b[0mrsi_df\u001b[0m\u001b[0;34m\u001b[0m\u001b[0;34m\u001b[0m\u001b[0m\n",
      "\u001b[0;31mNameError\u001b[0m: name 'FinancialFunctions' is not defined"
     ]
    }
   ],
   "source": [
    "rsi_windows = [5, 13, 34, 55]\n",
    "for w in rsi_windows:\n",
    "    rsi = get_rsi(df_ffd, window=w).squeeze()\n",
    "    df_ffd[f'rsi_{w}'] = rsi\n",
    "    \n",
    "df_ffd.dropna(inplace=True)\n",
    "\n",
    "df_ffd['log_ret'] = np.log(df_ffd['Close']).diff()\n",
    "\n",
    "# momentum \n",
    "for w in rsi_windows:\n",
    "    df_ffd[f'mom_{w}'] = df_ffd['Close'].pct_change(w)\n",
    "    \n",
    "# vol\n",
    "for w in rsi_windows:\n",
    "    df_ffd[f'vol_{w}'] = (df_ffd['log_ret']\n",
    "                            .rolling(window=w, min_periods=w, center=False)\n",
    "                            .std())\n",
    "    \n",
    "# autocorr\n",
    "window_autocorr = 50\n",
    "df_ffd['autocorr_1'] = (df_ffd['log_ret']\n",
    "                          .rolling(window=window_autocorr, \n",
    "                                   min_periods=window_autocorr, center=False)\n",
    "                          .apply(lambda x: x.autocorr(lag=1), raw=False))\n",
    "\n",
    "df_ffd['autocorr_2'] = (df_ffd['log_ret']\n",
    "                          .rolling(window=window_autocorr, \n",
    "                                   min_periods=window_autocorr, center=False)\n",
    "                          .apply(lambda x: x.autocorr(lag=3), raw=False))\n",
    "\n",
    "df_ffd['autocorr_3'] = (df_ffd['log_ret']\n",
    "                          .rolling(window=window_autocorr, \n",
    "                                   min_periods=window_autocorr, center=False)\n",
    "                          .apply(lambda x: x.autocorr(lag=5), raw=False))"
   ]
  },
  {
   "cell_type": "code",
   "execution_count": null,
   "metadata": {},
   "outputs": [],
   "source": [
    "Modelo -1: Hacer metalabling del size????\n",
    "Modelo 2: agregar mas variables (autocorrelacion, rsi?,etc)\n",
    "Modelo 3: Cross Validation\n",
    "Modelo 4bis: Metalabeling del Size\n",
    "Modelo 4: Size (XGBOOST)\n",
    "    \n",
    "En todos: feature importance\n",
    "\n"
   ]
  }
 ],
 "metadata": {
  "kernelspec": {
   "display_name": "Python 3",
   "language": "python",
   "name": "python3"
  },
  "language_info": {
   "codemirror_mode": {
    "name": "ipython",
    "version": 3
   },
   "file_extension": ".py",
   "mimetype": "text/x-python",
   "name": "python",
   "nbconvert_exporter": "python",
   "pygments_lexer": "ipython3",
   "version": "3.7.4"
  }
 },
 "nbformat": 4,
 "nbformat_minor": 2
}
